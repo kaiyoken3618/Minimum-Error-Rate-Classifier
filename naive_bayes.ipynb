{
  "nbformat": 4,
  "nbformat_minor": 0,
  "metadata": {
    "colab": {
      "name": "150204018_Assignment_3.ipynb",
      "provenance": [],
      "collapsed_sections": []
    },
    "kernelspec": {
      "name": "python3",
      "display_name": "Python 3"
    }
  },
  "cells": [
    {
      "cell_type": "markdown",
      "metadata": {
        "id": "jeVnSc7mzNh-",
        "colab_type": "text"
      },
      "source": [
        "**Course Name : Pattern Recognition Lab**\n",
        "\n",
        "**Course Number : CSE4214**\n",
        "\n",
        "**Experiment Name: Implementing minimum error rate classifier.**\n",
        "\n",
        "**Name : Enamul Haq Chowdhury**\n",
        "\n",
        "**Section : C1**\n",
        "\n",
        "**Student Id : 150204018**"
      ]
    },
    {
      "cell_type": "markdown",
      "metadata": {
        "id": "0gGyqx26qSNX",
        "colab_type": "text"
      },
      "source": [
        "#Headings & Imports"
      ]
    },
    {
      "cell_type": "code",
      "metadata": {
        "id": "KMGjOS_30m4R",
        "colab_type": "code",
        "colab": {}
      },
      "source": [
        "import io\n",
        "import pandas as pd\n",
        "import numpy as np\n",
        "import random as rd\n",
        "import csv\n",
        "import matplotlib.pyplot as plt\n",
        "import sys\n",
        "from sklearn.model_selection import train_test_split\n",
        "import math"
      ],
      "execution_count": 1,
      "outputs": []
    },
    {
      "cell_type": "code",
      "metadata": {
        "id": "yu5-aaXG07Tz",
        "colab_type": "code",
        "colab": {
          "resources": {
            "http://localhost:8080/nbextensions/google.colab/files.js": {
              "data": "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",
              "ok": true,
              "headers": [
                [
                  "content-type",
                  "application/javascript"
                ]
              ],
              "status": 200,
              "status_text": ""
            }
          },
          "base_uri": "https://localhost:8080/",
          "height": 73
        },
        "outputId": "6d3981ad-b301-4f71-d518-0daa9052e9ce"
      },
      "source": [
        "from google.colab import files\n",
        "uploaded = files.upload()"
      ],
      "execution_count": 2,
      "outputs": [
        {
          "output_type": "display_data",
          "data": {
            "text/html": [
              "\n",
              "     <input type=\"file\" id=\"files-6907181b-94e7-488f-88d1-ef23bb5590f1\" name=\"files[]\" multiple disabled\n",
              "        style=\"border:none\" />\n",
              "     <output id=\"result-6907181b-94e7-488f-88d1-ef23bb5590f1\">\n",
              "      Upload widget is only available when the cell has been executed in the\n",
              "      current browser session. Please rerun this cell to enable.\n",
              "      </output>\n",
              "      <script src=\"/nbextensions/google.colab/files.js\"></script> "
            ],
            "text/plain": [
              "<IPython.core.display.HTML object>"
            ]
          },
          "metadata": {
            "tags": []
          }
        },
        {
          "output_type": "stream",
          "text": [
            "Saving Data_csv.csv to Data_csv.csv\n"
          ],
          "name": "stdout"
        }
      ]
    },
    {
      "cell_type": "code",
      "metadata": {
        "id": "LkPWNQmP08ab",
        "colab_type": "code",
        "colab": {
          "base_uri": "https://localhost:8080/",
          "height": 272
        },
        "outputId": "dc16f6db-e970-46e2-adc0-2ad5371c246b"
      },
      "source": [
        "df = pd.read_csv(io.BytesIO(uploaded['Data_csv.csv'] ))\n",
        "print(df)"
      ],
      "execution_count": 3,
      "outputs": [
        {
          "output_type": "stream",
          "text": [
            "    Feature1  Feature2  Class\n",
            "0     1.7044    3.6651      1\n",
            "1     1.6726    4.6705      1\n",
            "2     1.4597    4.1940      1\n",
            "3     1.9761    4.1965      1\n",
            "4     2.1897    3.1463      1\n",
            "..       ...       ...    ...\n",
            "95    7.8985    9.7286      2\n",
            "96    7.2435   10.4561      2\n",
            "97    7.4368    9.9139      2\n",
            "98    7.5925    9.8320      2\n",
            "99    8.1833   10.2707      2\n",
            "\n",
            "[100 rows x 3 columns]\n"
          ],
          "name": "stdout"
        }
      ]
    },
    {
      "cell_type": "markdown",
      "metadata": {
        "id": "mDVtSvPVPZ2I",
        "colab_type": "text"
      },
      "source": [
        "#Question 1"
      ]
    },
    {
      "cell_type": "code",
      "metadata": {
        "id": "KTJ9OzzX2WZO",
        "colab_type": "code",
        "colab": {
          "base_uri": "https://localhost:8080/",
          "height": 272
        },
        "outputId": "1b936cd6-27fb-4d19-b750-4f842d19eb87"
      },
      "source": [
        "data = df.sample(frac=1)\n",
        "print(data)"
      ],
      "execution_count": 4,
      "outputs": [
        {
          "output_type": "stream",
          "text": [
            "    Feature1  Feature2  Class\n",
            "44    1.8667    4.3780      1\n",
            "23    2.6697    4.3125      1\n",
            "28    2.0405    4.2350      1\n",
            "7     1.9820    3.6816      1\n",
            "63    7.7494    9.3382      2\n",
            "..       ...       ...    ...\n",
            "32    2.9687    4.6599      1\n",
            "16    2.0206    4.8171      1\n",
            "47    2.9312    4.7409      1\n",
            "67    8.1146    9.9617      2\n",
            "31    2.8678    4.6904      1\n",
            "\n",
            "[100 rows x 3 columns]\n"
          ],
          "name": "stdout"
        }
      ]
    },
    {
      "cell_type": "code",
      "metadata": {
        "id": "BbzQmwWSB2S1",
        "colab_type": "code",
        "colab": {}
      },
      "source": [
        "X = np.array(data['Feature1'])\n",
        "Y = np.array(data['Feature2'])\n",
        "C = np.array(data['Class'])\n",
        "\n",
        "f1_train, f1_test, f2_train, f2_test, f3_train, f3_test = train_test_split(X, Y, C, test_size=0.40)"
      ],
      "execution_count": 5,
      "outputs": []
    },
    {
      "cell_type": "code",
      "metadata": {
        "id": "loQ0h20M8TNL",
        "colab_type": "code",
        "colab": {
          "base_uri": "https://localhost:8080/",
          "height": 290
        },
        "outputId": "ada73156-3aae-499f-bc81-28ecf02ff563"
      },
      "source": [
        "print(f1_train)\n",
        "print(f2_train)\n",
        "print(f3_train)"
      ],
      "execution_count": 6,
      "outputs": [
        {
          "output_type": "stream",
          "text": [
            "[1.4595 8.1146 1.9554 7.6475 7.8207 1.6219 8.4721 1.982  1.5214 7.7358\n",
            " 2.2205 7.4368 1.8932 1.372  8.0277 1.7138 1.5454 2.4038 7.3955 1.8348\n",
            " 1.4406 1.9761 7.5925 1.7562 1.7766 2.0206 1.9005 7.7494 7.6693 7.9464\n",
            " 7.9081 7.8114 1.7044 8.2924 1.8667 2.6697 1.3862 2.541  2.0405 7.2435\n",
            " 7.8985 7.9162 8.3723 8.029  1.7469 7.927  6.74   2.9687 8.6967 7.8881\n",
            " 8.0842 7.9415 1.7936 1.5094 8.1245 1.6726 8.1833 7.5548 3.1863 2.1897]\n",
            "[ 4.6372  9.9617  4.1154  9.6692  9.8127  4.4126 10.0221  3.6816  3.9072\n",
            " 10.1634  3.9642  9.9139  4.8944  2.8472 10.4317  3.797   3.4763  3.729\n",
            "  9.7069  4.1139  4.0899  4.1965  9.832   3.3273  4.1107  4.8171  4.1954\n",
            "  9.3382 10.0414  9.0686  9.6332  9.8536  3.6651 10.5008  4.378   4.3125\n",
            "  4.9352  3.3128  4.235  10.4561  9.7286  9.9677 10.3132 10.4983  4.2172\n",
            " 10.811  10.2774  4.6599 10.3766 10.1134 10.3062  9.278   4.7678  4.4282\n",
            " 10.3831  4.6705 10.2707 10.0459  3.5804  3.1463]\n",
            "[1 2 1 2 2 1 2 1 1 2 1 2 1 1 2 1 1 1 2 1 1 1 2 1 1 1 1 2 2 2 2 2 1 2 1 1 1\n",
            " 1 1 2 2 2 2 2 1 2 2 1 2 2 2 2 1 1 2 1 2 2 1 1]\n"
          ],
          "name": "stdout"
        }
      ]
    },
    {
      "cell_type": "markdown",
      "metadata": {
        "id": "sJJiq3A5PXPU",
        "colab_type": "text"
      },
      "source": [
        "#Question 2"
      ]
    },
    {
      "cell_type": "code",
      "metadata": {
        "id": "PPjsWOkeHy3Z",
        "colab_type": "code",
        "colab": {}
      },
      "source": [
        "c1F1 = np.empty((0,1),dtype=np.float64)\n",
        "c1F2 = np.empty((0,1),dtype=np.float64)\n",
        "c2F1 = np.empty((0,1),dtype=np.float64)\n",
        "c2F2 = np.empty((0,1),dtype=np.float64)\n",
        "\n",
        "for i in range(len(f3_train)):\n",
        "  if f3_train[i] == 1:\n",
        "    c1F1 = np.append(c1F1,f1_train[i])\n",
        "    c1F2 = np.append(c1F2,f2_train[i])\n",
        "  elif f3_train[i] == 2:\n",
        "    c2F1 = np.append(c2F1,f1_train[i])\n",
        "    c2F2 = np.append(c2F2,f2_train[i])"
      ],
      "execution_count": 7,
      "outputs": []
    },
    {
      "cell_type": "code",
      "metadata": {
        "id": "4fVHORjB7uBC",
        "colab_type": "code",
        "colab": {}
      },
      "source": [
        "mc1F1 = np.mean(c1F1)\n",
        "mc1F2 = np.mean(c1F2)\n",
        "mc2F1 = np.mean(c2F1)\n",
        "mc2F2 = np.mean(c2F2)\n",
        "\n",
        "cvc1 = np.cov(c1F1, c1F2)\n",
        "cvc2 = np.cov(c2F1, c2F2)\n",
        "\n",
        "lc1=0\n",
        "lc2=0\n",
        "ltrain = len(f1_train)\n",
        "for i in range(len(f3_train)):\n",
        "  if f3_train[i] == 1:\n",
        "    lc1=lc1+1\n",
        "  elif f3_train[i] == 2:\n",
        "    lc2=lc2+1\n",
        "\n",
        "Pc1 = lc1/ltrain\n",
        "Pc2 = lc2/ltrain\n",
        "\n",
        "mc1 = np.array((1,2),dtype=np.float64)\n",
        "mc1[0] = mc1F1\n",
        "mc1[1] = mc1F2\n",
        "\n",
        "mc2 = np.array((1,2),dtype=np.float64)\n",
        "mc2[0] = mc2F1\n",
        "mc2[1] = mc2F2"
      ],
      "execution_count": 8,
      "outputs": []
    },
    {
      "cell_type": "code",
      "metadata": {
        "id": "67iO2tSFPNve",
        "colab_type": "code",
        "colab": {
          "base_uri": "https://localhost:8080/",
          "height": 163
        },
        "outputId": "c4c74da0-ea79-4a25-90ce-4bcbf5d5e7e2"
      },
      "source": [
        "print(mc1)\n",
        "print(mc2)\n",
        "print(cvc1)\n",
        "print(cvc2)\n",
        "print(Pc1)\n",
        "print(Pc2)"
      ],
      "execution_count": 9,
      "outputs": [
        {
          "output_type": "stream",
          "text": [
            "[1.92483871 4.08457419]\n",
            "[ 7.86964828 10.02674483]\n",
            "[[ 0.19729247 -0.02433727]\n",
            " [-0.02433727  0.28639757]]\n",
            "[[0.1500418  0.02615057]\n",
            " [0.02615057 0.16178514]]\n",
            "0.5166666666666667\n",
            "0.48333333333333334\n"
          ],
          "name": "stdout"
        }
      ]
    },
    {
      "cell_type": "markdown",
      "metadata": {
        "id": "eOPuUzX5qv1w",
        "colab_type": "text"
      },
      "source": [
        "#Question 3"
      ]
    },
    {
      "cell_type": "markdown",
      "metadata": {
        "id": "N-Za-ZUism14",
        "colab_type": "text"
      },
      "source": [
        "#Normal Distribution Formula"
      ]
    },
    {
      "cell_type": "code",
      "metadata": {
        "id": "AMP8WMz0ssY4",
        "colab_type": "code",
        "colab": {}
      },
      "source": [
        "def NDF(X,mc,cvc):\n",
        "  covD = np.linalg.det(cvc)\n",
        "  covA = abs(np.linalg.det(cvc))\n",
        "\n",
        "  P = math.pi\n",
        "  p1res = 2*P\n",
        "  p1res2 = pow(p1res,2)\n",
        "  p1res3 = covA*p1res2\n",
        "  p1res4 = pow(p1res3,0.5)\n",
        "  part1 = 1/ p1res4\n",
        "\n",
        "  sub = X - mc\n",
        "  subT = sub.transpose()\n",
        "  covI = 1/covD\n",
        "\n",
        "  p2res1 = np.dot(sub,covI)\n",
        "  p2res2 = np.dot(p2res1,subT)\n",
        "  p2res2 = p2res2*(-0.5)\n",
        "\n",
        "  exponent = p2res2\n",
        "  part2 = math.exp(exponent)\n",
        "  ndf = part1*part2\n",
        "  return ndf"
      ],
      "execution_count": 10,
      "outputs": []
    },
    {
      "cell_type": "code",
      "metadata": {
        "id": "Rg-_9sfkqqNB",
        "colab_type": "code",
        "colab": {}
      },
      "source": [
        "ltf1 = len(f1_test)\n",
        "ltf2 = len(f2_test)\n",
        "X = np.zeros((ltf1,2),dtype=np.float64)\n",
        "for i in range(ltf1):\n",
        "  X[i][0] = f1_test[i]\n",
        "  X[i][1] = f2_test[i]"
      ],
      "execution_count": 11,
      "outputs": []
    },
    {
      "cell_type": "markdown",
      "metadata": {
        "id": "HIVqGwgKi3or",
        "colab_type": "text"
      },
      "source": [
        "#Definition"
      ]
    },
    {
      "cell_type": "code",
      "metadata": {
        "id": "g4tLFg_IxTp1",
        "colab_type": "code",
        "colab": {}
      },
      "source": [
        "tstC = np.zeros((ltf1),dtype=np.int64)\n",
        "for x in range(len(X)):\n",
        "  res1 = NDF(X[x],mc1,cvc1)\n",
        "  prob1 = Pc1*res1\n",
        "\n",
        "  res2 = NDF(X[x],mc2,cvc2)\n",
        "  prob2 = Pc2*res2\n",
        "\n",
        "  if prob1>prob2:\n",
        "    tstC[x] = 1\n",
        "  else:\n",
        "    tstC[x] = 2"
      ],
      "execution_count": 12,
      "outputs": []
    },
    {
      "cell_type": "markdown",
      "metadata": {
        "id": "e2LESqaOo4xp",
        "colab_type": "text"
      },
      "source": [
        "#Accuracy Rate"
      ]
    },
    {
      "cell_type": "code",
      "metadata": {
        "id": "pl94-Mbk7VQp",
        "colab_type": "code",
        "colab": {
          "base_uri": "https://localhost:8080/",
          "height": 90
        },
        "outputId": "b40f0abc-12cc-4614-bc86-ca56b9ff3add"
      },
      "source": [
        "print(f3_test)\n",
        "print(tstC)"
      ],
      "execution_count": 13,
      "outputs": [
        {
          "output_type": "stream",
          "text": [
            "[1 1 2 1 1 2 2 2 2 1 1 2 2 2 2 1 2 1 1 1 2 1 2 1 2 1 2 2 1 1 1 2 2 2 2 1 2\n",
            " 2 1 1]\n",
            "[1 1 2 1 1 2 2 2 2 1 1 2 2 2 2 1 2 1 1 1 2 1 2 1 2 1 2 2 1 1 1 2 2 2 2 1 2\n",
            " 2 1 1]\n"
          ],
          "name": "stdout"
        }
      ]
    },
    {
      "cell_type": "code",
      "metadata": {
        "id": "9FPmGf2sl_nZ",
        "colab_type": "code",
        "colab": {
          "base_uri": "https://localhost:8080/",
          "height": 35
        },
        "outputId": "9fff273f-e538-4770-83ff-6ea036bcef03"
      },
      "source": [
        "Corr = 0\n",
        "lf3_test = len(f3_test)\n",
        "\n",
        "for i in range(lf3_test):\n",
        "  if f3_test[i] == tstC[i]:\n",
        "    Corr = Corr+1\n",
        "accR = (Corr/lf3_test)*100\n",
        "print(accR,\"%\")"
      ],
      "execution_count": 14,
      "outputs": [
        {
          "output_type": "stream",
          "text": [
            "100.0 %\n"
          ],
          "name": "stdout"
        }
      ]
    },
    {
      "cell_type": "markdown",
      "metadata": {
        "id": "wrG6ynI3qnBD",
        "colab_type": "text"
      },
      "source": [
        "#Question 4"
      ]
    },
    {
      "cell_type": "code",
      "metadata": {
        "id": "SMYo3oFzua6r",
        "colab_type": "code",
        "colab": {}
      },
      "source": [
        "Tc1F1 = np.empty((0,1),dtype=np.float64)\n",
        "Tc1F2 = np.empty((0,1),dtype=np.float64)\n",
        "Tc2F1 = np.empty((0,1),dtype=np.float64)\n",
        "Tc2F2 = np.empty((0,1),dtype=np.float64)\n",
        "\n",
        "for i in range(lf3_test):\n",
        "  if tstC[i] == 1:\n",
        "    Tc1F1 = np.append(Tc1F1,X[i][0])\n",
        "    Tc1F2 = np.append(Tc1F2,X[i][1])\n",
        "  elif tstC[i] == 2:\n",
        "    Tc2F1 = np.append(Tc2F1,X[i][0])\n",
        "    Tc2F2 = np.append(Tc2F2,X[i][1])"
      ],
      "execution_count": 15,
      "outputs": []
    },
    {
      "cell_type": "code",
      "metadata": {
        "id": "gSGINGTAkZcO",
        "colab_type": "code",
        "colab": {
          "base_uri": "https://localhost:8080/",
          "height": 265
        },
        "outputId": "95844bef-58eb-4ff8-928e-73f98d160eb9"
      },
      "source": [
        "plt.scatter(Tc1F1, Tc1F2, c='r', marker=\"+\")\n",
        "plt.scatter(Tc2F1, Tc2F2, c='g', marker=\"o\")\n",
        "plt.show()"
      ],
      "execution_count": 16,
      "outputs": [
        {
          "output_type": "display_data",
          "data": {
            "image/png": "[encoded data removed]",
            "text/plain": [
              "<Figure size 432x288 with 1 Axes>"
            ]
          },
          "metadata": {
            "tags": [],
            "needs_background": "light"
          }
        }
      ]
    }
  ]
}